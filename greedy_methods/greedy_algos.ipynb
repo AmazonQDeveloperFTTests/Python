{
 "cells": [
  {
   "cell_type": "markdown",
   "metadata": {},
   "source": [
    "# Activity Selection"
   ]
  },
  {
   "cell_type": "code",
   "execution_count": 2,
   "metadata": {},
   "outputs": [
    {
     "name": "stdout",
     "output_type": "stream",
     "text": [
      "The selected activities are as follows\n",
      "[1, 2] [3, 4] [5, 7] [8, 9] \n"
     ]
    }
   ],
   "source": [
    "def activitySelection(activities):\n",
    "\n",
    "    result = []\n",
    "    n=len(activities)\n",
    "    activities.sort(key=lambda x: x[1])\n",
    "    i = 0\n",
    "    result.append(activities[i])\n",
    "\n",
    "\n",
    "    for j in range(1,n):\n",
    "\n",
    "        if activities[j][0] >= activities[i][0]:\n",
    "            i = j\n",
    "            result.append(activities[j])\n",
    "    print(\"The selected activities are as follows\")\n",
    "    for activity in result:\n",
    "        print(activity,end=\" \")\n",
    "    print()\n",
    "\n",
    "start = [1, 3, 0, 5, 8, 5]\n",
    "finish = [2, 4, 6, 7, 9, 9]\n",
    "\n",
    "activities = []\n",
    "for i in range(len(start)):\n",
    "    activities.append([start[i],finish[i]])\n",
    "\n",
    "activitySelection(activities=activities)"
   ]
  },
  {
   "cell_type": "markdown",
   "metadata": {},
   "source": [
    "# Job sequencing Problem\n",
    "Given a list of jobs with name/id,profit and the deadline, we need to maximize the profit by fitting in the jobs within the deadline.\n",
    "\n",
    "We will be selecting only those jobs which give us the maximum profit"
   ]
  },
  {
   "cell_type": "code",
   "execution_count": 4,
   "metadata": {},
   "outputs": [
    {
     "name": "stdout",
     "output_type": "stream",
     "text": [
      "['d', 'c', 'a']\n"
     ]
    }
   ],
   "source": [
    "def jobSequence(jobs,totalTime):\n",
    "    result = [False]*totalTime\n",
    "    jobs.sort(key=lambda x:x[2], reverse=True)\n",
    "\n",
    "    accepted = [-1]*totalTime\n",
    "    for i in range(len(jobs)):\n",
    "        for j in range(min(totalTime-1,jobs[i][1]),-1,-1):\n",
    "            if result[j] is False:\n",
    "                result[j] = True\n",
    "                accepted[j] = jobs[i][0]\n",
    "                break\n",
    "    \n",
    "    print(accepted)\n",
    "\n",
    "jobs = [\n",
    "    ['a',2,100],\n",
    "    ['b',1,19],\n",
    "    ['c',2,27],\n",
    "    ['d',1,25],\n",
    "    ['e',3,15]\n",
    "]\n",
    "\n",
    "jobSequence(jobs,3)"
   ]
  },
  {
   "cell_type": "markdown",
   "metadata": {},
   "source": [
    "# Prim's MST"
   ]
  },
  {
   "cell_type": "code",
   "execution_count": 8,
   "metadata": {},
   "outputs": [
    {
     "name": "stdout",
     "output_type": "stream",
     "text": [
      "Edge \tWeight\n",
      "0 - 1 \t 2\n",
      "1 - 2 \t 3\n",
      "0 - 3 \t 6\n",
      "1 - 4 \t 5\n"
     ]
    }
   ],
   "source": [
    "class Graph:\n",
    "\n",
    "    def __init__(self,V):\n",
    "        self.V = V\n",
    "        self.graph = [[0 for i in range(self.V)] for j in range(self.V)]\n",
    "    \n",
    "\n",
    "    def minIdx(self,key,mstSet):\n",
    "        min = float('inf')\n",
    "        for v in range(self.V):\n",
    "            if key[v]<min and v not in mstSet:\n",
    "                min = key[v]\n",
    "                idx=v\n",
    "        return idx\n",
    "    \n",
    "    def printMST(self,parent):\n",
    "        print(\"Edge \\tWeight\")\n",
    "        for i in range(1, self.V):\n",
    "            print(parent[i], \"-\", i, \"\\t\", self.graph[i][parent[i]])\n",
    "    \n",
    "    def MST(self):\n",
    "        maxval = float('inf')\n",
    "        mstSet = set()\n",
    "        parent = [None]*self.V\n",
    "        keys = [maxval]*self.V\n",
    "        keys[0] = 0\n",
    "        for v in range(self.V):\n",
    "\n",
    "            u = self.minIdx(keys,mstSet)\n",
    "            mstSet.add(u)\n",
    "\n",
    "            for neighbor in range(self.V):\n",
    "\n",
    "                if self.graph[u][neighbor]>0 and neighbor not in mstSet and keys[neighbor]>self.graph[u][neighbor]:\n",
    "                    keys[neighbor] = self.graph[u][neighbor]\n",
    "                    parent[neighbor] = u\n",
    "        self.printMST(parent)\n",
    "g = Graph(5)\n",
    "g.graph = [[0, 2, 0, 6, 0],\n",
    "            [2, 0, 3, 8, 5],\n",
    "            [0, 3, 0, 0, 7],\n",
    "            [6, 8, 0, 0, 9],\n",
    "            [0, 5, 7, 9, 0]]\n",
    "\n",
    "g.MST()"
   ]
  },
  {
   "cell_type": "markdown",
   "metadata": {},
   "source": [
    "# Hufmann Code"
   ]
  },
  {
   "cell_type": "code",
   "execution_count": 15,
   "metadata": {},
   "outputs": [
    {
     "name": "stdout",
     "output_type": "stream",
     "text": [
      "The code for f is 0\n",
      "The code for c is 100\n",
      "The code for d is 101\n",
      "The code for a is 1100\n",
      "The code for b is 1101\n",
      "The code for e is 111\n"
     ]
    }
   ],
   "source": [
    "class node:\n",
    "\n",
    "    def __init__(self,char,freq):\n",
    "\n",
    "        self.char = char\n",
    "        self.freq = freq\n",
    "\n",
    "        self.left = None\n",
    "        self.right = None\n",
    "\n",
    "        self.code = \"\"\n",
    "def buildTree(freq):\n",
    "    nodes = []\n",
    "\n",
    "    for char in freq:\n",
    "        nodes.append(node(char,freq[char]))\n",
    "    \n",
    "    while len(nodes)>1:\n",
    "        nodes.sort(key=lambda x:x.freq)\n",
    "\n",
    "        left = nodes.pop(0)\n",
    "        right = nodes.pop(0)\n",
    "\n",
    "        parent = node('None',left.freq+right.freq)\n",
    "\n",
    "        parent.left = left\n",
    "        parent.right = right\n",
    "\n",
    "        nodes.append(parent)\n",
    "    \n",
    "    return nodes[0]\n",
    "\n",
    "def traverse(node,code):\n",
    "    \n",
    "    if node is not None:\n",
    "        node.code = code\n",
    "        traverse(node.left,code+'0')\n",
    "        traverse(node.right,code+'1')\n",
    "\n",
    "def printCodes(node):\n",
    "    if node is not None:\n",
    "        if node.char!='None':\n",
    "            print(f\"The code for {node.char} is {node.code}\")\n",
    "        printCodes(node.left)\n",
    "        printCodes(node.right)\n",
    "\n",
    "def assignCode(tree):\n",
    "    traverse(tree,\"\")\n",
    "\n",
    "freq = {'a':5,'b':9,'c':12,'d':13,'e':16,'f':45}\n",
    "\n",
    "tree = buildTree(freq)\n",
    "\n",
    "assignCode(tree)\n",
    "\n",
    "printCodes(tree)"
   ]
  },
  {
   "cell_type": "markdown",
   "metadata": {},
   "source": [
    "# Coin change"
   ]
  },
  {
   "cell_type": "code",
   "execution_count": 17,
   "metadata": {},
   "outputs": [
    {
     "name": "stdout",
     "output_type": "stream",
     "text": [
      "8\n"
     ]
    }
   ],
   "source": [
    "def findMinCoins(amount,denominations):\n",
    "\n",
    "    coins = 0\n",
    "\n",
    "    while amount>0:\n",
    "        for i in range(len(denominations)-1,-1,-1):\n",
    "            if denominations[i]<=amount:\n",
    "                coins+=1\n",
    "                amount-=denominations[i]\n",
    "    return coins\n",
    "\n",
    "amount = 93\n",
    "denominations = (1,5,10,20,50,100,500,1000)\n",
    "print(findMinCoins(amount,denominations))"
   ]
  },
  {
   "cell_type": "markdown",
   "metadata": {},
   "source": [
    "# Fractional Knapsack"
   ]
  },
  {
   "cell_type": "code",
   "execution_count": 18,
   "metadata": {},
   "outputs": [
    {
     "data": {
      "text/plain": [
       "240.0"
      ]
     },
     "execution_count": 18,
     "metadata": {},
     "output_type": "execute_result"
    }
   ],
   "source": [
    "def findMaxProfit(items,max_weight):\n",
    "    for item in items:\n",
    "        item.append(item[0]/item[1])\n",
    "    \n",
    "    items.sort(key=lambda x:x[2], reverse=True)\n",
    "\n",
    "    profit = []\n",
    "\n",
    "\n",
    "    for item in items:\n",
    "        if item[1]<=max_weight:\n",
    "            profit.append(item[0])\n",
    "            max_weight-=item[1]\n",
    "            \n",
    "        else:\n",
    "            profit.append(item[0]*max_weight/item[1])\n",
    "            break\n",
    "    \n",
    "    return sum(profit)\n",
    "\n",
    "items = [[60,10],[100,20],[120,30]]\n",
    "max_weight = 50\n",
    "findMaxProfit(items,max_weight)"
   ]
  },
  {
   "cell_type": "code",
   "execution_count": null,
   "metadata": {},
   "outputs": [],
   "source": []
  }
 ],
 "metadata": {
  "kernelspec": {
   "display_name": "Python 3",
   "language": "python",
   "name": "python3"
  },
  "language_info": {
   "codemirror_mode": {
    "name": "ipython",
    "version": 3
   },
   "file_extension": ".py",
   "mimetype": "text/x-python",
   "name": "python",
   "nbconvert_exporter": "python",
   "pygments_lexer": "ipython3",
   "version": "3.11.2"
  },
  "orig_nbformat": 4
 },
 "nbformat": 4,
 "nbformat_minor": 2
}
