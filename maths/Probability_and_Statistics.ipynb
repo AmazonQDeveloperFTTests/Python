{
  "nbformat": 4,
  "nbformat_minor": 0,
  "metadata": {
    "colab": {
      "name": "Probability and Statistics.ipynb",
      "provenance": []
    },
    "kernelspec": {
      "name": "python3",
      "display_name": "Python 3"
    },
    "language_info": {
      "name": "python"
    }
  },
  "cells": [
    {
      "cell_type": "markdown",
      "metadata": {
        "id": "nKrz8yg6CPJ1"
      },
      "source": [
        "Sets"
      ]
    },
    {
      "cell_type": "code",
      "metadata": {
        "colab": {
          "base_uri": "https://localhost:8080/"
        },
        "id": "LvqUu3W3CK-F",
        "outputId": "19563bac-aca2-4aaf-8798-19a250fb8d6e"
      },
      "source": [
        "# A set of numbers\n",
        "set([1,2,30])"
      ],
      "execution_count": null,
      "outputs": [
        {
          "output_type": "execute_result",
          "data": {
            "text/plain": [
              "{1, 2, 30}"
            ]
          },
          "metadata": {
            "tags": []
          },
          "execution_count": 1
        }
      ]
    },
    {
      "cell_type": "code",
      "metadata": {
        "colab": {
          "base_uri": "https://localhost:8080/"
        },
        "id": "eUYRA5XXCUBv",
        "outputId": "325a37ad-6e65-4290-ed4a-ea54824ed3db"
      },
      "source": [
        "# order is not presenrved\n",
        "# When printing out a set, the elements will be listed \n",
        "# A set of strings\n",
        "set(['this','that','the other'])"
      ],
      "execution_count": null,
      "outputs": [
        {
          "output_type": "execute_result",
          "data": {
            "text/plain": [
              "{'that', 'the other', 'this'}"
            ]
          },
          "metadata": {
            "tags": []
          },
          "execution_count": 2
        }
      ]
    },
    {
      "cell_type": "code",
      "metadata": {
        "colab": {
          "base_uri": "https://localhost:8080/"
        },
        "id": "fJzYW2spCWMz",
        "outputId": "3dd813ca-40a3-4864-9946-6661f980f925"
      },
      "source": [
        "# each element can appear in a set only once.\n",
        "set([1,2,3,2])"
      ],
      "execution_count": null,
      "outputs": [
        {
          "output_type": "execute_result",
          "data": {
            "text/plain": [
              "{1, 2, 3}"
            ]
          },
          "metadata": {
            "tags": []
          },
          "execution_count": 3
        }
      ]
    },
    {
      "cell_type": "code",
      "metadata": {
        "id": "pH7fSAtxCa8A"
      },
      "source": [
        "# Create an empty set\n",
        "A = set()"
      ],
      "execution_count": null,
      "outputs": []
    },
    {
      "cell_type": "code",
      "metadata": {
        "colab": {
          "base_uri": "https://localhost:8080/"
        },
        "id": "ahE-Q96ECc5X",
        "outputId": "8df50dab-6d41-4113-95eb-22fd3e98fd3b"
      },
      "source": [
        "# Add elements from a set\n",
        "A = set()\n",
        "A.update({0, 10})\n",
        "print(A)"
      ],
      "execution_count": null,
      "outputs": [
        {
          "output_type": "stream",
          "text": [
            "{0, 10}\n"
          ],
          "name": "stdout"
        }
      ]
    },
    {
      "cell_type": "code",
      "metadata": {
        "colab": {
          "base_uri": "https://localhost:8080/"
        },
        "id": "u9OtSeTMCgSR",
        "outputId": "07b3d6f3-6124-4bcf-af96-e3a7a94ff1cd"
      },
      "source": [
        "# Remove a random element from a set\n",
        "A = {1, 2, 3}\n",
        "A.pop()\n",
        "print(A)"
      ],
      "execution_count": null,
      "outputs": [
        {
          "output_type": "stream",
          "text": [
            "{2, 3}\n"
          ],
          "name": "stdout"
        }
      ]
    },
    {
      "cell_type": "code",
      "metadata": {
        "colab": {
          "base_uri": "https://localhost:8080/"
        },
        "id": "QqtumhpbCiYP",
        "outputId": "2da3abcd-3e87-49d9-b50a-0e73d0584a83"
      },
      "source": [
        "# Delete an element from a set\n",
        "A = {1, 2, 3}\n",
        "A.remove(2)       # Works only if the element to be deleted is present in the set\n",
        "A.discard(4)      # Works even if the element to be deleted is not present in the set\n",
        "A.discard(3)      \n",
        "print(A)"
      ],
      "execution_count": null,
      "outputs": [
        {
          "output_type": "stream",
          "text": [
            "{1}\n"
          ],
          "name": "stdout"
        }
      ]
    },
    {
      "cell_type": "code",
      "metadata": {
        "colab": {
          "base_uri": "https://localhost:8080/"
        },
        "id": "5j2PnQWKCkOG",
        "outputId": "421f7a48-2c2d-4054-f477-68e099d84ce6"
      },
      "source": [
        "A = {-1,2,1, 3}\n",
        "A.pop()\n",
        "print(A)"
      ],
      "execution_count": null,
      "outputs": [
        {
          "output_type": "stream",
          "text": [
            "{2, 3, -1}\n"
          ],
          "name": "stdout"
        }
      ]
    },
    {
      "cell_type": "code",
      "metadata": {
        "colab": {
          "base_uri": "https://localhost:8080/"
        },
        "id": "c1sa6PTkCmaK",
        "outputId": "3e57f4fb-6dae-4a21-bee3-1a0dbfe6c0bf"
      },
      "source": [
        "# Get a sorted list from a set\n",
        "A = {1, 10, 4, -9, 7, 8, -6, 3, 2}\n",
        "print(sorted(A))"
      ],
      "execution_count": null,
      "outputs": [
        {
          "output_type": "stream",
          "text": [
            "[-9, -6, 1, 2, 3, 4, 7, 8, 10]\n"
          ],
          "name": "stdout"
        }
      ]
    },
    {
      "cell_type": "markdown",
      "metadata": {
        "id": "LMEZB_cWCaAt"
      },
      "source": [
        "Operation on Sets"
      ]
    },
    {
      "cell_type": "code",
      "metadata": {
        "colab": {
          "base_uri": "https://localhost:8080/"
        },
        "id": "B5C1MeZbCsq9",
        "outputId": "d88458cc-60fe-40b8-c4b2-e77482eb08ef"
      },
      "source": [
        "A=set(range(0,3)) # all integers between 0 and 2\n",
        "B=set(range(0,6,2)) # even integers between 0 and 2\n",
        "C=set(range(0,6))   # all integers between 0 and 5\n",
        "'A=',A,'B=',B,'C=',C"
      ],
      "execution_count": null,
      "outputs": [
        {
          "output_type": "execute_result",
          "data": {
            "text/plain": [
              "('A=', {0, 1, 2}, 'B=', {0, 2, 4}, 'C=', {0, 1, 2, 3, 4, 5})"
            ]
          },
          "metadata": {
            "tags": []
          },
          "execution_count": 10
        }
      ]
    },
    {
      "cell_type": "code",
      "metadata": {
        "colab": {
          "base_uri": "https://localhost:8080/"
        },
        "id": "ptYxXCGnCxl5",
        "outputId": "70b7c895-bbad-4e23-fe07-363c6fe8ff6e"
      },
      "source": [
        "## Checking if an element is in a set:\n",
        "1 in A, 1 in B, 3 not in B"
      ],
      "execution_count": null,
      "outputs": [
        {
          "output_type": "execute_result",
          "data": {
            "text/plain": [
              "(True, False, True)"
            ]
          },
          "metadata": {
            "tags": []
          },
          "execution_count": 11
        }
      ]
    },
    {
      "cell_type": "code",
      "metadata": {
        "colab": {
          "base_uri": "https://localhost:8080/"
        },
        "id": "asxjv8sRC2Hc",
        "outputId": "8a2ae963-2f3e-476a-ea0f-4fa551fb5f7f"
      },
      "source": [
        "A.issubset(C), A<=C"
      ],
      "execution_count": null,
      "outputs": [
        {
          "output_type": "execute_result",
          "data": {
            "text/plain": [
              "(True, True)"
            ]
          },
          "metadata": {
            "tags": []
          },
          "execution_count": 12
        }
      ]
    },
    {
      "cell_type": "code",
      "metadata": {
        "colab": {
          "base_uri": "https://localhost:8080/"
        },
        "id": "1Yh2BEfpC4rM",
        "outputId": "2db770f5-08d9-4159-ec06-f6cf0fa528da"
      },
      "source": [
        "C.issuperset(B),C>=B"
      ],
      "execution_count": null,
      "outputs": [
        {
          "output_type": "execute_result",
          "data": {
            "text/plain": [
              "(True, True)"
            ]
          },
          "metadata": {
            "tags": []
          },
          "execution_count": 13
        }
      ]
    },
    {
      "cell_type": "code",
      "metadata": {
        "colab": {
          "base_uri": "https://localhost:8080/"
        },
        "id": "ipBHD83pC7i5",
        "outputId": "9d74e069-db92-4735-f256-9ea29cd1fab0"
      },
      "source": [
        "A.union(B),A | B"
      ],
      "execution_count": null,
      "outputs": [
        {
          "output_type": "execute_result",
          "data": {
            "text/plain": [
              "({0, 1, 2, 4}, {0, 1, 2, 4})"
            ]
          },
          "metadata": {
            "tags": []
          },
          "execution_count": 14
        }
      ]
    },
    {
      "cell_type": "code",
      "metadata": {
        "colab": {
          "base_uri": "https://localhost:8080/"
        },
        "id": "siFzn7iZC-0b",
        "outputId": "284af34f-b389-498a-943c-d3d3866bbf0c"
      },
      "source": [
        "A.intersection(B), A&B"
      ],
      "execution_count": null,
      "outputs": [
        {
          "output_type": "execute_result",
          "data": {
            "text/plain": [
              "({0, 2}, {0, 2})"
            ]
          },
          "metadata": {
            "tags": []
          },
          "execution_count": 15
        }
      ]
    },
    {
      "cell_type": "code",
      "metadata": {
        "colab": {
          "base_uri": "https://localhost:8080/"
        },
        "id": "Dvpvdg_GDA_N",
        "outputId": "c6e95b44-58e3-4683-fb6a-e2f94b0b81cc"
      },
      "source": [
        "# The difference between A and B contains all elements that are in A but not in B\n",
        "A.difference(B), A-B"
      ],
      "execution_count": null,
      "outputs": [
        {
          "output_type": "execute_result",
          "data": {
            "text/plain": [
              "({1}, {1})"
            ]
          },
          "metadata": {
            "tags": []
          },
          "execution_count": 16
        }
      ]
    },
    {
      "cell_type": "code",
      "metadata": {
        "colab": {
          "base_uri": "https://localhost:8080/"
        },
        "id": "P9W8nAxGDCpb",
        "outputId": "ac8821c1-e99b-46dc-cdba-1ff970afdc94"
      },
      "source": [
        "# The symetric difference contains all elements that are in one of the two sets, but not in both\n",
        "A.symmetric_difference(B), A^B"
      ],
      "execution_count": null,
      "outputs": [
        {
          "output_type": "execute_result",
          "data": {
            "text/plain": [
              "({1, 4}, {1, 4})"
            ]
          },
          "metadata": {
            "tags": []
          },
          "execution_count": 17
        }
      ]
    },
    {
      "cell_type": "markdown",
      "metadata": {
        "id": "hWd1JsLoxh-e"
      },
      "source": [
        "## Probability"
      ]
    },
    {
      "cell_type": "code",
      "metadata": {
        "id": "POzHaXRaDElu",
        "colab": {
          "base_uri": "https://localhost:8080/"
        },
        "outputId": "5447fe15-87fa-4a5e-f021-ad17220a5565"
      },
      "source": [
        "#Probability of getting two heads for a coin tossed twice \n",
        "S = {'HH', 'HT', 'TH', 'TT'}\n",
        "E= {'HH'}\n",
        "P = len(E)/len(S)\n",
        "print(P)"
      ],
      "execution_count": 47,
      "outputs": [
        {
          "output_type": "stream",
          "text": [
            "0.25\n"
          ],
          "name": "stdout"
        }
      ]
    },
    {
      "cell_type": "code",
      "metadata": {
        "colab": {
          "base_uri": "https://localhost:8080/"
        },
        "id": "nl2iCL9cI8LO",
        "outputId": "2e786a58-f860-4b69-e299-ff8af477bd60"
      },
      "source": [
        "#Probability of drawing aces from a deck of card\n",
        "cards = 52\n",
        "aces = 4\n",
        "\n",
        "# Divide possible outcomes by the sample set\n",
        "ace_probability = aces / cards\n",
        "\n",
        "# Print probability rounded to two decimal places\n",
        "print(round(ace_probability, 2))"
      ],
      "execution_count": 46,
      "outputs": [
        {
          "output_type": "stream",
          "text": [
            "0.08\n"
          ],
          "name": "stdout"
        }
      ]
    },
    {
      "cell_type": "code",
      "metadata": {
        "colab": {
          "base_uri": "https://localhost:8080/"
        },
        "id": "L-lAbGbcKS-t",
        "outputId": "dd70af9d-67cf-44e8-ec82-04237e2bf8e3"
      },
      "source": [
        "# Sample Space\n",
        "cards = 52\n",
        "\n",
        "# Calculate the probability of drawing a heart or a club\n",
        "hearts = 13\n",
        "clubs = 13\n",
        "heart_or_club = (hearts/cards) + (clubs/ cards)\n",
        "print(heart_or_club)"
      ],
      "execution_count": 49,
      "outputs": [
        {
          "output_type": "stream",
          "text": [
            "0.5\n"
          ],
          "name": "stdout"
        }
      ]
    },
    {
      "cell_type": "code",
      "metadata": {
        "colab": {
          "base_uri": "https://localhost:8080/"
        },
        "id": "whapgMFqKoxF",
        "outputId": "e0771aee-6d27-4b78-b8be-11eab1679fc2"
      },
      "source": [
        "# Sample Space\n",
        "cards = 52\n",
        "\n",
        "# Outcomes\n",
        "aces = 4\n",
        "\n",
        "# Probability of one ace\n",
        "ace_probability = aces / cards\n",
        "\n",
        "# Probability of two consecutive independant aces \n",
        "two_aces_probability = ace_probability * ace_probability\n",
        "\n",
        "# Two Ace Probability Percent Code\n",
        "two_ace_probability_percent = two_aces_probability * 100\n",
        "print(round(two_ace_probability_percent, 1))"
      ],
      "execution_count": 50,
      "outputs": [
        {
          "output_type": "stream",
          "text": [
            "0.6\n"
          ],
          "name": "stdout"
        }
      ]
    },
    {
      "cell_type": "code",
      "metadata": {
        "colab": {
          "base_uri": "https://localhost:8080/"
        },
        "id": "MqzPh3mWCQCR",
        "outputId": "4bb7204b-343a-4e27-97fa-03a62b337ab0"
      },
      "source": [
        "#Probability of getting 8 on sum of two dice thrown\n",
        "count=0\n",
        "total=0\n",
        "for i in range(1,7):\n",
        "  for j in range(1,7):\n",
        "    a= i+j\n",
        "    total= total+1\n",
        "    if(a==8):\n",
        "      count=count+1\n",
        "\n",
        "Pr = count/total\n",
        "print(Pr)"
      ],
      "execution_count": 12,
      "outputs": [
        {
          "output_type": "stream",
          "text": [
            "0.1388888888888889\n"
          ],
          "name": "stdout"
        }
      ]
    },
    {
      "cell_type": "markdown",
      "metadata": {
        "id": "NAwToj7-G1h8"
      },
      "source": [
        "Simulating Probablity of Coin Toss"
      ]
    },
    {
      "cell_type": "code",
      "metadata": {
        "id": "MWDfyfE8G4jY"
      },
      "source": [
        "import random\n",
        "def coin_trial():\n",
        "  heads = 0\n",
        "  for i in range(100):\n",
        "    if random.random() <= 0.5:\n",
        "      heads +=1\n",
        "  return heads\n",
        "\n",
        "def simulate(n):\n",
        "  trials = []\n",
        "  for i in range(n):\n",
        "    trials.append(coin_trial())\n",
        "  return(sum(trials)/n)"
      ],
      "execution_count": 20,
      "outputs": []
    },
    {
      "cell_type": "code",
      "metadata": {
        "colab": {
          "base_uri": "https://localhost:8080/"
        },
        "id": "YdlhzZmNHCs_",
        "outputId": "e9bb53fc-a71a-459f-b48b-c1ee64c4180c"
      },
      "source": [
        "simulate(10)"
      ],
      "execution_count": 24,
      "outputs": [
        {
          "output_type": "execute_result",
          "data": {
            "text/plain": [
              "48.5"
            ]
          },
          "metadata": {
            "tags": []
          },
          "execution_count": 24
        }
      ]
    },
    {
      "cell_type": "code",
      "metadata": {
        "colab": {
          "base_uri": "https://localhost:8080/"
        },
        "id": "O85N-pOtHE1S",
        "outputId": "b01f3cbe-2012-48ea-da74-836f468d25c0"
      },
      "source": [
        "simulate(1000)"
      ],
      "execution_count": 25,
      "outputs": [
        {
          "output_type": "execute_result",
          "data": {
            "text/plain": [
              "50.051"
            ]
          },
          "metadata": {
            "tags": []
          },
          "execution_count": 25
        }
      ]
    },
    {
      "cell_type": "code",
      "metadata": {
        "colab": {
          "base_uri": "https://localhost:8080/"
        },
        "id": "7W3N189bHJLh",
        "outputId": "e78ca058-b962-444c-98ec-868a245cde26"
      },
      "source": [
        "simulate(1000000)"
      ],
      "execution_count": 27,
      "outputs": [
        {
          "output_type": "execute_result",
          "data": {
            "text/plain": [
              "49.998403"
            ]
          },
          "metadata": {
            "tags": []
          },
          "execution_count": 27
        }
      ]
    },
    {
      "cell_type": "markdown",
      "metadata": {
        "id": "SU7c4qT1El0w"
      },
      "source": [
        "### Conditional Probability\n",
        "In a group of 100 sports car buyers, 40 bought alarm systems, 30 purchased bucket seats, and 20 purchased an alarm system and bucket seats. If a car buyer chosen at random bought an alarm system, what is the probability they also bought bucket seats?"
      ]
    },
    {
      "cell_type": "code",
      "metadata": {
        "id": "YZQiBmUuHCNa"
      },
      "source": [
        ""
      ],
      "execution_count": null,
      "outputs": []
    },
    {
      "cell_type": "code",
      "metadata": {
        "colab": {
          "base_uri": "https://localhost:8080/",
          "height": 250
        },
        "id": "pAQ1xMqbDalj",
        "outputId": "bbac1b1e-670d-4708-d29b-af7749676ed0"
      },
      "source": [
        "import matplotlib.pyplot as plt\n",
        "from matplotlib_venn import venn2\n",
        "\n",
        "# Use the venn2 function\n",
        "venn2(subsets = (40, 30, 20), set_labels = ('Alarm System', 'Bucket Seat'))\n",
        "plt.show()"
      ],
      "execution_count": 18,
      "outputs": [
        {
          "output_type": "display_data",
          "data": {
            "image/png": "[encoded data removed]",
            "text/plain": [
              "<Figure size 432x288 with 1 Axes>"
            ]
          },
          "metadata": {
            "tags": []
          }
        }
      ]
    },
    {
      "cell_type": "code",
      "metadata": {
        "colab": {
          "base_uri": "https://localhost:8080/"
        },
        "id": "g3USBIoaFUUM",
        "outputId": "a9105b2f-cf41-4fc9-8b90-a1232dc5fe9b"
      },
      "source": [
        "S=100\n",
        "pr_AB= 20/S\n",
        "pr_A= 40/S\n",
        "\n",
        "Pr_B_given_A = pr_AB/pr_A\n",
        "print(Pr_B_given_A)"
      ],
      "execution_count": 17,
      "outputs": [
        {
          "output_type": "stream",
          "text": [
            "0.5\n"
          ],
          "name": "stdout"
        }
      ]
    },
    {
      "cell_type": "code",
      "metadata": {
        "id": "UwEEMZ4bGXBO"
      },
      "source": [
        ""
      ],
      "execution_count": null,
      "outputs": []
    },
    {
      "cell_type": "markdown",
      "metadata": {
        "id": "oqtjsMMTGzfY"
      },
      "source": [
        "## Probability Distribution"
      ]
    },
    {
      "cell_type": "markdown",
      "metadata": {
        "id": "0KeQ1KKNHmGD"
      },
      "source": [
        "Uniform Distribution"
      ]
    },
    {
      "cell_type": "code",
      "metadata": {
        "id": "GB_5HWBRHk-4"
      },
      "source": [
        "# import uniform distribution\n",
        "from scipy.stats import uniform\n",
        "\n",
        "# random numbers from uniform distribution\n",
        "n = 10000\n",
        "start = 10\n",
        "width = 20\n",
        "data_uniform = uniform.rvs(size=n, loc = start, scale=width)"
      ],
      "execution_count": 29,
      "outputs": []
    },
    {
      "cell_type": "code",
      "metadata": {
        "colab": {
          "base_uri": "https://localhost:8080/",
          "height": 351
        },
        "id": "vZtnIlCiHtc7",
        "outputId": "26c27710-9580-4eb9-ab14-4298c5af36a3"
      },
      "source": [
        "import seaborn as sns\n",
        "ax = sns.distplot(data_uniform,\n",
        "                  bins=100,\n",
        "                  kde=True,\n",
        "                  color='skyblue',\n",
        "                  hist_kws={\"linewidth\": 15,'alpha':1})\n",
        "ax.set(xlabel='Uniform Distribution ', ylabel='Frequency')"
      ],
      "execution_count": 31,
      "outputs": [
        {
          "output_type": "stream",
          "text": [
            "/usr/local/lib/python3.7/dist-packages/seaborn/distributions.py:2557: FutureWarning: `distplot` is a deprecated function and will be removed in a future version. Please adapt your code to use either `displot` (a figure-level function with similar flexibility) or `histplot` (an axes-level function for histograms).\n",
            "  warnings.warn(msg, FutureWarning)\n"
          ],
          "name": "stderr"
        },
        {
          "output_type": "execute_result",
          "data": {
            "text/plain": [
              "[Text(0, 0.5, 'Frequency'), Text(0.5, 0, 'Uniform Distribution ')]"
            ]
          },
          "metadata": {
            "tags": []
          },
          "execution_count": 31
        },
        {
          "output_type": "display_data",
          "data": {
            "image/png": "[encoded data removed]",
            "text/plain": [
              "<Figure size 432x288 with 1 Axes>"
            ]
          },
          "metadata": {
            "tags": [],
            "needs_background": "light"
          }
        }
      ]
    },
    {
      "cell_type": "markdown",
      "metadata": {
        "id": "K8jbh63ZH1s-"
      },
      "source": [
        "Normal Distribution"
      ]
    },
    {
      "cell_type": "code",
      "metadata": {
        "id": "bBHJy6hJHvY4"
      },
      "source": [
        "from scipy.stats import norm\n",
        "# generate random numbers from N(0,1)\n",
        "data_normal = norm.rvs(size=10000,loc=0,scale=1)"
      ],
      "execution_count": 32,
      "outputs": []
    },
    {
      "cell_type": "code",
      "metadata": {
        "colab": {
          "base_uri": "https://localhost:8080/",
          "height": 351
        },
        "id": "HbD-F7SuH59N",
        "outputId": "efc3d8ad-652f-4403-981e-61d21c5d1442"
      },
      "source": [
        "ax = sns.distplot(data_normal,\n",
        "                  bins=100,\n",
        "                  kde=True,\n",
        "                  color='skyblue',\n",
        "                  hist_kws={\"linewidth\": 15,'alpha':1})\n",
        "ax.set(xlabel='Normal Distribution', ylabel='Frequency')"
      ],
      "execution_count": 33,
      "outputs": [
        {
          "output_type": "stream",
          "text": [
            "/usr/local/lib/python3.7/dist-packages/seaborn/distributions.py:2557: FutureWarning: `distplot` is a deprecated function and will be removed in a future version. Please adapt your code to use either `displot` (a figure-level function with similar flexibility) or `histplot` (an axes-level function for histograms).\n",
            "  warnings.warn(msg, FutureWarning)\n"
          ],
          "name": "stderr"
        },
        {
          "output_type": "execute_result",
          "data": {
            "text/plain": [
              "[Text(0, 0.5, 'Frequency'), Text(0.5, 0, 'Normal Distribution')]"
            ]
          },
          "metadata": {
            "tags": []
          },
          "execution_count": 33
        },
        {
          "output_type": "display_data",
          "data": {
            "image/png": "[encoded data removed]",
            "text/plain": [
              "<Figure size 432x288 with 1 Axes>"
            ]
          },
          "metadata": {
            "tags": [],
            "needs_background": "light"
          }
        }
      ]
    },
    {
      "cell_type": "markdown",
      "metadata": {
        "id": "ExFECqMfH-mf"
      },
      "source": [
        "Gamma Distribution"
      ]
    },
    {
      "cell_type": "code",
      "metadata": {
        "id": "uKGpPz5IH6Th"
      },
      "source": [
        "from scipy.stats import gamma\n",
        "data_gamma = gamma.rvs(a=5, size=10000)"
      ],
      "execution_count": 34,
      "outputs": []
    },
    {
      "cell_type": "code",
      "metadata": {
        "colab": {
          "base_uri": "https://localhost:8080/",
          "height": 351
        },
        "id": "o2uZfcWwIAQZ",
        "outputId": "7c15f62d-4de3-4025-adf4-05c076169442"
      },
      "source": [
        "ax = sns.distplot(data_gamma,\n",
        "                  kde=True,\n",
        "                  bins=100,\n",
        "                  color='skyblue',\n",
        "                  hist_kws={\"linewidth\": 15,'alpha':1})\n",
        "ax.set(xlabel='Gamma Distribution', ylabel='Frequency')"
      ],
      "execution_count": 35,
      "outputs": [
        {
          "output_type": "stream",
          "text": [
            "/usr/local/lib/python3.7/dist-packages/seaborn/distributions.py:2557: FutureWarning: `distplot` is a deprecated function and will be removed in a future version. Please adapt your code to use either `displot` (a figure-level function with similar flexibility) or `histplot` (an axes-level function for histograms).\n",
            "  warnings.warn(msg, FutureWarning)\n"
          ],
          "name": "stderr"
        },
        {
          "output_type": "execute_result",
          "data": {
            "text/plain": [
              "[Text(0, 0.5, 'Frequency'), Text(0.5, 0, 'Gamma Distribution')]"
            ]
          },
          "metadata": {
            "tags": []
          },
          "execution_count": 35
        },
        {
          "output_type": "display_data",
          "data": {
            "image/png": "[encoded data removed]",
            "text/plain": [
              "<Figure size 432x288 with 1 Axes>"
            ]
          },
          "metadata": {
            "tags": [],
            "needs_background": "light"
          }
        }
      ]
    },
    {
      "cell_type": "markdown",
      "metadata": {
        "id": "uMmhhcLQIDsM"
      },
      "source": [
        "Exponential Distribution"
      ]
    },
    {
      "cell_type": "code",
      "metadata": {
        "id": "fPJfvom1ICS8"
      },
      "source": [
        "from scipy.stats import expon\n",
        "data_expon = expon.rvs(scale=1,loc=0,size=1000)"
      ],
      "execution_count": 36,
      "outputs": []
    },
    {
      "cell_type": "code",
      "metadata": {
        "colab": {
          "base_uri": "https://localhost:8080/",
          "height": 351
        },
        "id": "gt1OdrnXIHa5",
        "outputId": "14fe440b-f2ce-4c2b-adb6-10d1b8bf10a6"
      },
      "source": [
        "ax = sns.distplot(data_expon,\n",
        "                  kde=True,\n",
        "                  bins=100,\n",
        "                  color='skyblue',\n",
        "                  hist_kws={\"linewidth\": 15,'alpha':1})\n",
        "ax.set(xlabel='Exponential Distribution', ylabel='Frequency')"
      ],
      "execution_count": 37,
      "outputs": [
        {
          "output_type": "stream",
          "text": [
            "/usr/local/lib/python3.7/dist-packages/seaborn/distributions.py:2557: FutureWarning: `distplot` is a deprecated function and will be removed in a future version. Please adapt your code to use either `displot` (a figure-level function with similar flexibility) or `histplot` (an axes-level function for histograms).\n",
            "  warnings.warn(msg, FutureWarning)\n"
          ],
          "name": "stderr"
        },
        {
          "output_type": "execute_result",
          "data": {
            "text/plain": [
              "[Text(0, 0.5, 'Frequency'), Text(0.5, 0, 'Exponential Distribution')]"
            ]
          },
          "metadata": {
            "tags": []
          },
          "execution_count": 37
        },
        {
          "output_type": "display_data",
          "data": {
            "image/png": "[encoded data removed]",
            "text/plain": [
              "<Figure size 432x288 with 1 Axes>"
            ]
          },
          "metadata": {
            "tags": [],
            "needs_background": "light"
          }
        }
      ]
    },
    {
      "cell_type": "markdown",
      "metadata": {
        "id": "fqL_EBWLINTm"
      },
      "source": [
        "Poisson Distribution"
      ]
    },
    {
      "cell_type": "code",
      "metadata": {
        "id": "8IB_L674IJZN"
      },
      "source": [
        "from scipy.stats import poisson\n",
        "data_poisson = poisson.rvs(mu=3, size=10000)"
      ],
      "execution_count": 38,
      "outputs": []
    },
    {
      "cell_type": "code",
      "metadata": {
        "colab": {
          "base_uri": "https://localhost:8080/",
          "height": 351
        },
        "id": "_7MpT5LRIQ0B",
        "outputId": "08203f54-a42a-43de-84f9-825763190c35"
      },
      "source": [
        "ax = sns.distplot(data_poisson,\n",
        "                  bins=30,\n",
        "                  kde=False,\n",
        "                  color='skyblue',\n",
        "                  hist_kws={\"linewidth\": 15,'alpha':1})\n",
        "ax.set(xlabel='Poisson Distribution', ylabel='Frequency')"
      ],
      "execution_count": 39,
      "outputs": [
        {
          "output_type": "stream",
          "text": [
            "/usr/local/lib/python3.7/dist-packages/seaborn/distributions.py:2557: FutureWarning: `distplot` is a deprecated function and will be removed in a future version. Please adapt your code to use either `displot` (a figure-level function with similar flexibility) or `histplot` (an axes-level function for histograms).\n",
            "  warnings.warn(msg, FutureWarning)\n"
          ],
          "name": "stderr"
        },
        {
          "output_type": "execute_result",
          "data": {
            "text/plain": [
              "[Text(0, 0.5, 'Frequency'), Text(0.5, 0, 'Poisson Distribution')]"
            ]
          },
          "metadata": {
            "tags": []
          },
          "execution_count": 39
        },
        {
          "output_type": "display_data",
          "data": {
            "image/png": "[encoded data removed]",
            "text/plain": [
              "<Figure size 432x288 with 1 Axes>"
            ]
          },
          "metadata": {
            "tags": [],
            "needs_background": "light"
          }
        }
      ]
    },
    {
      "cell_type": "markdown",
      "metadata": {
        "id": "J4KUBmGYIViH"
      },
      "source": [
        "Binomial Distribution"
      ]
    },
    {
      "cell_type": "code",
      "metadata": {
        "id": "6dzT-_hiISic"
      },
      "source": [
        "from scipy.stats import binom\n",
        "data_binom = binom.rvs(n=10,p=0.8,size=10000)"
      ],
      "execution_count": 40,
      "outputs": []
    },
    {
      "cell_type": "code",
      "metadata": {
        "colab": {
          "base_uri": "https://localhost:8080/",
          "height": 351
        },
        "id": "8pKRyYIUIXFM",
        "outputId": "39c803ce-41cf-4359-cf1f-ccb5c723f272"
      },
      "source": [
        "ax = sns.distplot(data_binom,\n",
        "                  kde=False,\n",
        "                  color='skyblue',\n",
        "                  hist_kws={\"linewidth\": 15,'alpha':1})\n",
        "ax.set(xlabel='Binomial Distribution', ylabel='Frequency')"
      ],
      "execution_count": 41,
      "outputs": [
        {
          "output_type": "stream",
          "text": [
            "/usr/local/lib/python3.7/dist-packages/seaborn/distributions.py:2557: FutureWarning: `distplot` is a deprecated function and will be removed in a future version. Please adapt your code to use either `displot` (a figure-level function with similar flexibility) or `histplot` (an axes-level function for histograms).\n",
            "  warnings.warn(msg, FutureWarning)\n"
          ],
          "name": "stderr"
        },
        {
          "output_type": "execute_result",
          "data": {
            "text/plain": [
              "[Text(0, 0.5, 'Frequency'), Text(0.5, 0, 'Binomial Distribution')]"
            ]
          },
          "metadata": {
            "tags": []
          },
          "execution_count": 41
        },
        {
          "output_type": "display_data",
          "data": {
            "image/png": "[encoded data removed]",
            "text/plain": [
              "<Figure size 432x288 with 1 Axes>"
            ]
          },
          "metadata": {
            "tags": [],
            "needs_background": "light"
          }
        }
      ]
    },
    {
      "cell_type": "markdown",
      "metadata": {
        "id": "dUov5OkcIcOk"
      },
      "source": [
        "Bernoulli's Distribution"
      ]
    },
    {
      "cell_type": "code",
      "metadata": {
        "id": "ItG65oamIZHS"
      },
      "source": [
        "from scipy.stats import bernoulli\n",
        "data_bern = bernoulli.rvs(size=10000,p=0.6)"
      ],
      "execution_count": 44,
      "outputs": []
    },
    {
      "cell_type": "code",
      "metadata": {
        "colab": {
          "base_uri": "https://localhost:8080/",
          "height": 351
        },
        "id": "UKLOOXQ2IgAq",
        "outputId": "b7d323ce-edf3-47f1-c8a7-66b7a6ecdb44"
      },
      "source": [
        "ax= sns.distplot(data_bern,\n",
        "                 kde=False,\n",
        "                 color=\"skyblue\",\n",
        "                 hist_kws={\"linewidth\": 15,'alpha':1})\n",
        "ax.set(xlabel='Bernoulli Distribution', ylabel='Frequency')"
      ],
      "execution_count": 45,
      "outputs": [
        {
          "output_type": "stream",
          "text": [
            "/usr/local/lib/python3.7/dist-packages/seaborn/distributions.py:2557: FutureWarning: `distplot` is a deprecated function and will be removed in a future version. Please adapt your code to use either `displot` (a figure-level function with similar flexibility) or `histplot` (an axes-level function for histograms).\n",
            "  warnings.warn(msg, FutureWarning)\n"
          ],
          "name": "stderr"
        },
        {
          "output_type": "execute_result",
          "data": {
            "text/plain": [
              "[Text(0, 0.5, 'Frequency'), Text(0.5, 0, 'Bernoulli Distribution')]"
            ]
          },
          "metadata": {
            "tags": []
          },
          "execution_count": 45
        },
        {
          "output_type": "display_data",
          "data": {
            "image/png": "[encoded data removed]",
            "text/plain": [
              "<Figure size 432x288 with 1 Axes>"
            ]
          },
          "metadata": {
            "tags": [],
            "needs_background": "light"
          }
        }
      ]
    },
    {
      "cell_type": "code",
      "metadata": {
        "id": "2_bdBcCaIhkc"
      },
      "source": [
        ""
      ],
      "execution_count": null,
      "outputs": []
    }
  ]
}