{
 "cells": [
  {
   "cell_type": "markdown",
   "metadata": {
    "id": "5Zg0j-TAKFLU"
   },
   "source": [
    "## Linear Algebra in Python"
   ]
  },
  {
   "cell_type": "code",
   "execution_count": 2,
   "metadata": {
    "colab": {
     "base_uri": "https://localhost:8080/"
    },
    "id": "jFrXGe26Jo_1",
    "outputId": "ed03ee4e-321f-48a2-eac6-3c4c181d1f66"
   },
   "outputs": [
    {
     "name": "stdout",
     "output_type": "stream",
     "text": [
      "x: [1 2 3 4]\n",
      "y: [5 6 7 8]\n"
     ]
    }
   ],
   "source": [
    "#Defining two vectors \n",
    "import numpy as np\n",
    "x = np.array([1, 2, 3, 4])\n",
    "y = np.array([5, 6, 7, 8])\n",
    "print(\"x:\", x)\n",
    "print(\"y:\", y)"
   ]
  },
  {
   "cell_type": "markdown",
   "metadata": {
    "id": "6wGUTU9FKk3M"
   },
   "source": [
    "We can now calculate the $dot$ or $inner product$ using the dot function of numpy:"
   ]
  },
  {
   "cell_type": "code",
   "execution_count": 3,
   "metadata": {
    "colab": {
     "base_uri": "https://localhost:8080/"
    },
    "id": "gsdi5BP_KdcN",
    "outputId": "023e5e1d-1998-41cb-a279-38f03820cf32"
   },
   "outputs": [
    {
     "data": {
      "text/plain": [
       "70"
      ]
     },
     "execution_count": 3,
     "metadata": {
      "tags": []
     },
     "output_type": "execute_result"
    }
   ],
   "source": [
    "np.dot(x, y)"
   ]
  },
  {
   "cell_type": "markdown",
   "metadata": {
    "id": "u8LC-YnyKw96"
   },
   "source": [
    "Note that both vectors are actually row vectors in the above code. We can transpose them to column vectors by using the shape property:"
   ]
  },
  {
   "cell_type": "code",
   "execution_count": 4,
   "metadata": {
    "colab": {
     "base_uri": "https://localhost:8080/"
    },
    "id": "8cl0m1CVKn6l",
    "outputId": "935261e3-e5d2-490e-d55a-db6862e9fbf6"
   },
   "outputs": [
    {
     "name": "stdout",
     "output_type": "stream",
     "text": [
      "x: [1 2 3 4]\n",
      "xT: [[1]\n",
      " [2]\n",
      " [3]\n",
      " [4]]\n",
      "y: [5 6 7 8]\n",
      "yT: [[5]\n",
      " [6]\n",
      " [7]\n",
      " [8]]\n"
     ]
    }
   ],
   "source": [
    "print(\"x:\", x)\n",
    "x.shape = (4, 1)\n",
    "print(\"xT:\", x)\n",
    "print(\"y:\", y)\n",
    "y.shape = (4, 1)\n",
    "print(\"yT:\", y)"
   ]
  },
  {
   "cell_type": "markdown",
   "metadata": {
    "id": "Y9NBLFDQLMnv"
   },
   "source": [
    "Usually, we can transform a row vector into a column vector in numpy by using the T method on vector or matrix objects:"
   ]
  },
  {
   "cell_type": "code",
   "execution_count": 6,
   "metadata": {
    "colab": {
     "base_uri": "https://localhost:8080/"
    },
    "id": "0tiL2rUcKzv2",
    "outputId": "d30603b8-fd56-48d2-e025-e5af759d225d"
   },
   "outputs": [
    {
     "name": "stdout",
     "output_type": "stream",
     "text": [
      "x: [1 2 3 4]\n",
      "y: [5 6 7 8]\n",
      "xT: [1 2 3 4]\n",
      "yT: [5 6 7 8]\n"
     ]
    }
   ],
   "source": [
    "x = np.array([1, 2, 3, 4])\n",
    "y = np.array([5, 6, 7, 8])\n",
    "print(\"x:\", x)\n",
    "print(\"y:\", y)\n",
    "print(\"xT:\", x.T)\n",
    "print(\"yT:\", y.T)"
   ]
  },
  {
   "cell_type": "markdown",
   "metadata": {
    "id": "3dHdo_fJLR3K"
   },
   "source": [
    "The problem here is that this does not do, what we expect it to do. It only works, if we declare the variables not to be arrays of numbers, but in fact a matrix:"
   ]
  },
  {
   "cell_type": "code",
   "execution_count": 7,
   "metadata": {
    "colab": {
     "base_uri": "https://localhost:8080/"
    },
    "id": "BwF5ugmWK-RD",
    "outputId": "597faeb9-bd3c-4625-aac2-34f8cfbfef30"
   },
   "outputs": [
    {
     "name": "stdout",
     "output_type": "stream",
     "text": [
      "x: [[1 2 3 4]]\n",
      "y: [[5 6 7 8]]\n",
      "xT: [[1]\n",
      " [2]\n",
      " [3]\n",
      " [4]]\n",
      "yT: [[5]\n",
      " [6]\n",
      " [7]\n",
      " [8]]\n"
     ]
    }
   ],
   "source": [
    "x = np.array([[1, 2, 3, 4]])\n",
    "y = np.array([[5, 6, 7, 8]])\n",
    "print(\"x:\", x)\n",
    "print(\"y:\", y)\n",
    "print(\"xT:\", x.T)\n",
    "print(\"yT:\", y.T)"
   ]
  },
  {
   "cell_type": "markdown",
   "metadata": {
    "id": "hVLI8duuLeTe"
   },
   "source": [
    "One can also use Reshape funtion "
   ]
  },
  {
   "cell_type": "code",
   "execution_count": 8,
   "metadata": {
    "colab": {
     "base_uri": "https://localhost:8080/"
    },
    "id": "7U-wiDutLUGK",
    "outputId": "76d602fd-9d25-49d2-841e-9445e1e19bae"
   },
   "outputs": [
    {
     "name": "stdout",
     "output_type": "stream",
     "text": [
      "x: [[1 2 3 4]]\n",
      "xT: [[1]\n",
      " [2]\n",
      " [3]\n",
      " [4]]\n",
      "xT: [[1]\n",
      " [2]\n",
      " [3]\n",
      " [4]]\n",
      "xT: [[1]\n",
      " [2]\n",
      " [3]\n",
      " [4]]\n"
     ]
    }
   ],
   "source": [
    "x = np.array([[1, 2, 3, 4]])\n",
    "print(\"x:\", x)\n",
    "print(\"xT:\", np.reshape(x, (4, 1)))\n",
    "print(\"xT:\", x.T)\n",
    "print(\"xT:\", x.transpose())"
   ]
  },
  {
   "cell_type": "markdown",
   "metadata": {
    "id": "DxWydjwvLqSX"
   },
   "source": [
    "Product of two matrix "
   ]
  },
  {
   "cell_type": "code",
   "execution_count": 9,
   "metadata": {
    "colab": {
     "base_uri": "https://localhost:8080/"
    },
    "id": "o5jOIBP8Lgz3",
    "outputId": "742975a1-32b2-4ce3-aefb-d892595e5f5c"
   },
   "outputs": [
    {
     "data": {
      "text/plain": [
       "array([[ 5,  6,  7,  8],\n",
       "       [10, 12, 14, 16],\n",
       "       [15, 18, 21, 24],\n",
       "       [20, 24, 28, 32]])"
      ]
     },
     "execution_count": 9,
     "metadata": {
      "tags": []
     },
     "output_type": "execute_result"
    }
   ],
   "source": [
    "x = np.array([[1, 2, 3, 4]])\n",
    "y = np.array([[5, 6, 7, 8]])\n",
    "x.T * y"
   ]
  },
  {
   "cell_type": "markdown",
   "metadata": {
    "id": "MhtuDpioL1OL"
   },
   "source": [
    "Matrix mutiplication with Scalar"
   ]
  },
  {
   "cell_type": "code",
   "execution_count": 11,
   "metadata": {
    "colab": {
     "base_uri": "https://localhost:8080/"
    },
    "id": "V_GkAjilLr7o",
    "outputId": "dae5fc4f-21cb-4782-cfe7-7350af0c6bc1"
   },
   "outputs": [
    {
     "data": {
      "text/plain": [
       "array([[ 8, 10, 12],\n",
       "       [14, 16, 18]])"
      ]
     },
     "execution_count": 11,
     "metadata": {
      "tags": []
     },
     "output_type": "execute_result"
    }
   ],
   "source": [
    "import numpy as np\n",
    "A = np.array([[4, 5, 6],\n",
    "             [7, 8, 9]])\n",
    "A * 2"
   ]
  },
  {
   "cell_type": "markdown",
   "metadata": {
    "id": "5vtn8a1eMRKq"
   },
   "source": [
    "Inverse of matrix"
   ]
  },
  {
   "cell_type": "code",
   "execution_count": 14,
   "metadata": {
    "colab": {
     "base_uri": "https://localhost:8080/"
    },
    "id": "IC-3F5ATL4vU",
    "outputId": "a71cdc3d-145f-4997-e7bf-2224ece40ee4"
   },
   "outputs": [
    {
     "data": {
      "text/plain": [
       "array([[ 0.5       ,  0.        , -0.5       ],\n",
       "       [-4.        ,  2.        ,  1.        ],\n",
       "       [ 3.16666667, -1.66666667, -0.5       ]])"
      ]
     },
     "execution_count": 14,
     "metadata": {
      "tags": []
     },
     "output_type": "execute_result"
    }
   ],
   "source": [
    "A = np.array([[4, 5, 6],\n",
    "             [7, 8, 9],\n",
    "              [2, 5, 6]])\n",
    "np.linalg.inv(A)"
   ]
  },
  {
   "cell_type": "markdown",
   "metadata": {
    "id": "8iV1Q4IPOLuh"
   },
   "source": [
    "Representing imgaes in Array"
   ]
  },
  {
   "cell_type": "code",
   "execution_count": 15,
   "metadata": {
    "colab": {
     "base_uri": "https://localhost:8080/"
    },
    "id": "OAnw_YK5NjIL",
    "outputId": "e7da2aea-7560-4084-8250-f4efa46985f9"
   },
   "outputs": [
    {
     "name": "stdout",
     "output_type": "stream",
     "text": [
      "JPEG\n",
      "(1280, 720)\n",
      "RGB\n"
     ]
    }
   ],
   "source": [
    "from PIL import Image\n",
    "  \n",
    "  \n",
    "# sample.png is the name of the image\n",
    "# file and assuming that it is uploaded\n",
    "# in the current directory or we need\n",
    "# to give the path\n",
    "image = Image.open('berlin.jpg')\n",
    "  \n",
    "# summarize some details about the image\n",
    "print(image.format)\n",
    "print(image.size)\n",
    "print(image.mode)"
   ]
  },
  {
   "cell_type": "code",
   "execution_count": 17,
   "metadata": {
    "colab": {
     "base_uri": "https://localhost:8080/"
    },
    "id": "rpR6xqFnOdU_",
    "outputId": "f6f1e2da-907d-4d28-c5b1-5aede68b4f2a"
   },
   "outputs": [
    {
     "name": "stdout",
     "output_type": "stream",
     "text": [
      "<class 'numpy.ndarray'>\n",
      "(720, 1280, 3)\n"
     ]
    }
   ],
   "source": [
    "numpydata = np.asarray(image)\n",
    "  \n",
    "# <class 'numpy.ndarray'>\n",
    "print(type(numpydata))\n",
    "  \n",
    "#  shape: 3 because it is colour image i.e. 3 Channel Image RGB\n",
    "print(numpydata.shape)"
   ]
  },
  {
   "cell_type": "code",
   "execution_count": 18,
   "metadata": {
    "colab": {
     "base_uri": "https://localhost:8080/"
    },
    "id": "vgDUS7o_OkAG",
    "outputId": "c708b277-e5a0-4f56-950c-d3187e502de9"
   },
   "outputs": [
    {
     "name": "stdout",
     "output_type": "stream",
     "text": [
      "[[[  6  27 136]\n",
      "  [  6  27 136]\n",
      "  [  6  27 136]\n",
      "  ...\n",
      "  [  5  30 157]\n",
      "  [  5  30 157]\n",
      "  [  5  30 157]]\n",
      "\n",
      " [[  6  27 136]\n",
      "  [  6  27 136]\n",
      "  [  6  27 136]\n",
      "  ...\n",
      "  [  5  30 157]\n",
      "  [  5  30 157]\n",
      "  [  5  30 157]]\n",
      "\n",
      " [[  6  27 136]\n",
      "  [  6  27 136]\n",
      "  [  6  27 136]\n",
      "  ...\n",
      "  [  5  30 157]\n",
      "  [  5  30 157]\n",
      "  [  5  30 157]]\n",
      "\n",
      " ...\n",
      "\n",
      " [[234 206 169]\n",
      "  [224 196 159]\n",
      "  [202 174 137]\n",
      "  ...\n",
      "  [160 132 120]\n",
      "  [161 133 121]\n",
      "  [159 131 119]]\n",
      "\n",
      " [[214 186 149]\n",
      "  [215 187 150]\n",
      "  [207 179 142]\n",
      "  ...\n",
      "  [157 129 117]\n",
      "  [166 138 126]\n",
      "  [173 145 133]]\n",
      "\n",
      " [[225 197 160]\n",
      "  [231 203 166]\n",
      "  [238 210 173]\n",
      "  ...\n",
      "  [157 129 115]\n",
      "  [160 132 118]\n",
      "  [163 135 121]]]\n"
     ]
    }
   ],
   "source": [
    "print(numpydata)"
   ]
  }
 ],
 "metadata": {
  "colab": {
   "name": "Linear Algebra in Python.ipynb",
   "provenance": []
  },
  "kernelspec": {
   "display_name": "Python 3",
   "language": "python",
   "name": "python3"
  },
  "language_info": {
   "codemirror_mode": {
    "name": "ipython",
    "version": 3
   },
   "file_extension": ".py",
   "mimetype": "text/x-python",
   "name": "python",
   "nbconvert_exporter": "python",
   "pygments_lexer": "ipython3",
   "version": "3.6.8"
  }
 },
 "nbformat": 4,
 "nbformat_minor": 1
}
